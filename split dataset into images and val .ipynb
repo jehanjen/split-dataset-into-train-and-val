{
 "cells": [
  {
   "cell_type": "code",
   "execution_count": 14,
   "metadata": {},
   "outputs": [],
   "source": [
    "import os\n",
    "import shutil\n",
    "import random\n",
    "from sklearn.model_selection import train_test_split\n",
    "\n",
    "def split_dataset(images_dir, labels_dir, train_dir, val_dir, split_ratio=0.8, random_seed=None):\n",
    "    # List all image files in the images directory\n",
    "    image_files = [f for f in os.listdir(images_dir) if f.lower().endswith(('.png', '.jpg', '.jpeg', '.gif', '.bmp'))]\n",
    "    \n",
    "    # Use the same random seed for reproducibility\n",
    "    random.seed(random_seed)\n",
    "    \n",
    "    # Split the image files\n",
    "    train_image_files, val_image_files = train_test_split(image_files, train_size=split_ratio, random_state=random_seed)\n",
    "    \n",
    "    # Create the training and validation directories if they don't exist\n",
    "    os.makedirs(os.path.join(train_dir, 'images'), exist_ok=True)\n",
    "    os.makedirs(os.path.join(val_dir, 'images'), exist_ok=True)\n",
    "    os.makedirs(os.path.join(train_dir, 'labels'), exist_ok=True)\n",
    "    os.makedirs(os.path.join(val_dir, 'labels'), exist_ok=True)\n",
    "    \n",
    "    # Copy image and label files to the training directory\n",
    "    for image_file in train_image_files:\n",
    "        image_path = os.path.join(images_dir, image_file)\n",
    "        label_file = os.path.splitext(image_file)[0] + '.txt'\n",
    "        label_path = os.path.join(labels_dir, label_file)\n",
    "        \n",
    "        # Copy the image file to the train/images directory\n",
    "        shutil.copy(image_path, os.path.join(train_dir, 'images', image_file))\n",
    "        \n",
    "        # Copy the label file if it exists to the train/labels directory\n",
    "        if os.path.exists(label_path):\n",
    "            shutil.copy(label_path, os.path.join(train_dir, 'labels', label_file))\n",
    "        \n",
    "    # Copy image and label files to the validation directory\n",
    "    for image_file in val_image_files:\n",
    "        image_path = os.path.join(images_dir, image_file)\n",
    "        label_file = os.path.splitext(image_file)[0] + '.txt'\n",
    "        label_path = os.path.join(labels_dir, label_file)\n",
    "        \n",
    "        # Copy the image file to the val/images directory\n",
    "        shutil.copy(image_path, os.path.join(val_dir, 'images', image_file))\n",
    "        \n",
    "        # Copy the label file if it exists to the val/labels directory\n",
    "        if os.path.exists(label_path):\n",
    "            shutil.copy(label_path, os.path.join(val_dir, 'labels', label_file))\n",
    "\n",
    "# Paths to your directories\n",
    "images_directory = r\"C:\\Users\\jen_bim-y\\Desktop\\window\\images\"\n",
    "labels_directory = r\"C:\\Users\\jen_bim-y\\Desktop\\window\\labels\"\n",
    "train_directory = r\"C:\\Users\\jen_bim-y\\Desktop\\f\\train\"\n",
    "val_directory = r\"C:\\Users\\jen_bim-y\\Desktop\\f\\val\"\n",
    "\n",
    "# Split the dataset and copy files\n",
    "split_dataset(images_directory, labels_directory, train_directory, val_directory, split_ratio=0.8, random_seed=42)\n"
   ]
  },
  {
   "cell_type": "code",
   "execution_count": null,
   "metadata": {},
   "outputs": [],
   "source": []
  }
 ],
 "metadata": {
  "kernelspec": {
   "display_name": "bim-y",
   "language": "python",
   "name": "python3"
  },
  "language_info": {
   "codemirror_mode": {
    "name": "ipython",
    "version": 3
   },
   "file_extension": ".py",
   "mimetype": "text/x-python",
   "name": "python",
   "nbconvert_exporter": "python",
   "pygments_lexer": "ipython3",
   "version": "3.8.15"
  },
  "orig_nbformat": 4
 },
 "nbformat": 4,
 "nbformat_minor": 2
}
